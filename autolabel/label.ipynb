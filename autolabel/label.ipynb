{
 "cells": [
  {
   "cell_type": "markdown",
   "metadata": {},
   "source": []
  },
  {
   "cell_type": "code",
   "execution_count": 32,
   "metadata": {},
   "outputs": [],
   "source": [
    "import cv2\n",
    "import numpy as np\n",
    "import random\n",
    "import os\n",
    "from tqdm import tqdm  #跑時間條的library\n",
    "\n",
    "from random import sample\n"
   ]
  },
  {
   "cell_type": "code",
   "execution_count": 33,
   "metadata": {},
   "outputs": [],
   "source": [
    "def rotate_bound(image, angle):\n",
    "    \"\"\"\n",
    "\n",
    "    :param image: 原圖\n",
    "    :param angle: 旋轉角度\n",
    "    :return: 旋轉後的圖\n",
    "    \"\"\"\n",
    "    # grab the dimensions of the image and then determine the\n",
    "    # center\n",
    "    (h, w) = image.shape[:2]\n",
    "    (cX, cY) = (w // 2, h // 2)\n",
    "\n",
    "    # grab the rotation matrix (applying the negative of the\n",
    "    # angle to rotate clockwise), then grab the sine and cosine\n",
    "    # (i.e., the rotation components of the matrix)\n",
    "    M = cv2.getRotationMatrix2D((cX, cY), -angle, 1.0)\n",
    "    \n",
    "    cos = np.abs(M[0, 0])\n",
    "    sin = np.abs(M[0, 1])\n",
    "\n",
    "    # compute the new bounding dimensions of the image\n",
    "    nW = int((h * sin) + (w * cos))\n",
    "    nH = int((h * cos) + (w * sin))\n",
    "\n",
    "    # adjust the rotation matrix to take into account translation\n",
    "    M[0, 2] += (nW / 2) - cX\n",
    "    M[1, 2] += (nH / 2) - cY\n",
    "    \n",
    "    img = cv2.warpAffine(image, M, (nW, nH))\n",
    "    # perform the actual rotation and return the image\n",
    "    return img"
   ]
  },
  {
   "cell_type": "code",
   "execution_count": 80,
   "metadata": {},
   "outputs": [],
   "source": [
    "class com:\n",
    "    def __init__(self, background_list, cut_list,bg_name,label_name):  \n",
    "        self.background_list = background_list\n",
    "        self.cut_list = cut_list\n",
    "        self.bg_name  = bg_name\n",
    "        self.label_name = label_name\n",
    "\n",
    "        \n",
    "    def back_init(self, file_name):    #重新讀取新的背景圖，一些參數更新\n",
    "#         self.background = cv2.imread(\"./background/\"+background_list[random.randint(0,11)])\n",
    "        name = sample(self.background_list,1)\n",
    "#         print(self.bg_name+name[0])\n",
    "        self.background = cv2.imread(self.bg_name+name[0])\n",
    "        self.Xrange = []\n",
    "        self.Yrange = []\n",
    "        self.file_name = file_name\n",
    "        \n",
    "    def cut_init(self,j):   #重新讀取新的裁切圖\n",
    "        self.classid = sample(self.cut_list,1)\n",
    "#         self.classid = random.randint(0,7)\n",
    "        self.cut = cv2.imread(self.label_name+self.classid[0])\n",
    "        print(self.label_name+self.classid[0])\n",
    "        self.shape = self.cut.shape\n",
    "        print(self.shape)\n",
    "        self.cut = cv2.resize(self.cut,(self.shape[0]//2,self.shape[1]//2))\n",
    "        \n",
    "    def combine(self):     #合成\n",
    "        angle = random.randrange(-10,10)\n",
    "        rimg = rotate_bound(self.cut, angle)\n",
    "        shape = self.background.shape\n",
    "        \n",
    "        shift_x = random.randint(310,720) - rimg.shape[0]//2    #120,320 120,320 320,520 280,380 340,540  225\n",
    "        shift_y = random.randint(700,1400) - rimg.shape[1]//2   #320,520 800,1000 350,550 530,730 750,950  285\n",
    "        \n",
    "        \n",
    "        Xmin = shift_x\n",
    "        Xmax = shift_x+rimg.shape[0]\n",
    "        Ymin = shift_y\n",
    "        Ymax = shift_y+rimg.shape[1]\n",
    "        \n",
    "        #if check_over: (確認重疊)\n",
    "        #if self.check_cover(Xmin, Xmax, Ymin, Ymax): \n",
    "        \n",
    "        if True:\n",
    "            X = (Xmin + (Xmax - Xmin)/2) / self.background.shape[0]\n",
    "            Y = (Ymin + (Ymax - Ymin)/2) / self.background.shape[1]\n",
    "            W = (Xmax - Xmin)/self.background.shape[0]\n",
    "            H = (Ymax - Ymin)/self.background.shape[1]\n",
    "            #x  = 0\n",
    "            \n",
    "            \n",
    "#             if   self.classid < 6 and self.classid >= 0 :\n",
    "#                 x = 1\n",
    "#             elif self.classid < 20 and self.classid >= 6 :\n",
    "#                 x = 2\n",
    "#             elif self.classid < 30 and self.classid >= 20 :\n",
    "#                 x = 3\n",
    "#             elif self.classid < 40 and self.classid >= 30 :\n",
    "#                 x = 4\n",
    "#             elif self.classid < 50 and self.classid >= 40 :\n",
    "#                 x = 5\n",
    "            \n",
    "\n",
    "            label =str(1) + \" {:.6f} {:.6f} {:.6f} {:.6f}\\n\".format(Y,X,H,W)    #Yolo的格式\n",
    "\n",
    "            for i in range(rimg.shape[0]):\n",
    "                for j in range(rimg.shape[1]):\n",
    "                    if rimg[i,j].all() == 0:\n",
    "                        pass\n",
    "                    else:\n",
    "                        self.background[Xmin+i, Ymin+j] = rimg[i, j]\n",
    "                        \n",
    "                        \n",
    "            self.Xrange.append((Xmin, Xmax))  #確認重疊用的\n",
    "            self.Yrange.append((Ymin, Ymax))  #確認重疊用的\n",
    "            \n",
    "            self.mkdir(\"./dataset/train/labels/\")\n",
    "            with open(\"./dataset/train/labels/\"+self.file_name+\".txt\", \"a\") as f:  #寫label檔\n",
    "                f.write(label)\n",
    "                \n",
    "    def img_write(self):    #存合成圖\n",
    "        self.mkdir(\"./dataset/train/images/\")\n",
    "        cv2.imwrite(\"./dataset/train/images/\"+self.file_name+\".jpg\",self.background)\n",
    "\n",
    "    \n",
    "    def mkdir(self,path):\n",
    "        folder = os.path.exists(path)\n",
    "        if not folder:\n",
    "            os.makedirs(path)\n",
    "#             print('-----建立成功-----')\n",
    "        else:\n",
    "            pass\n",
    "#             print(path+'目錄已存在')\n",
    "    \n",
    "    \n",
    "    \n",
    "    def check_cover(self, Xmin, Xmax, Ymin, Ymax):    #確認有沒有重疊覆蓋，生成一堆的可以忽略\n",
    "        \n",
    "        for i in range(len(self.Xrange)):\n",
    "            \n",
    "            Xmin_check = 0\n",
    "            Xmax_check = 0\n",
    "            Ymin_check = 0\n",
    "            Ymax_check = 0\n",
    "            \n",
    "            if (Xmin >= self.Xrange[i][0]) and (Xmin <= self.Xrange[i][1]):\n",
    "                Xmin_check = 1\n",
    "            if (Xmax >= self.Xrange[i][0]) and (Xmax <= self.Xrange[i][1]):\n",
    "                Xmax_check = 1\n",
    "            if (Ymin >= self.Yrange[i][0]) and (Ymin <= self.Yrange[i][1]):\n",
    "                Ymin_check = 1\n",
    "            if (Ymax >= self.Yrange[i][0]) and (Ymax <= self.Yrange[i][1]):\n",
    "                Ymax_check = 1\n",
    "                \n",
    "            if (self.Xrange[i][0] >= Xmin) and (self.Xrange[i][0] <= Xmax):\n",
    "                Xmin_check = 1\n",
    "            if (self.Xrange[i][1] >= Xmin) and (self.Xrange[i][1] <= Xmax):\n",
    "                Xmax_check = 1\n",
    "            if (self.Yrange[i][0] >= Ymin) and (self.Yrange[i][0] <= Ymax):\n",
    "                Ymin_check = 1\n",
    "            if (self.Yrange[i][1] >= Ymin) and (self.Yrange[i][1] <= Ymax):\n",
    "                Ymax_check = 1\n",
    "            \n",
    "            if (Xmin_check or Xmax_check) and (Ymin_check or Ymax_check):\n",
    "               \n",
    "                return False\n",
    "        return True\n"
   ]
  },
  {
   "cell_type": "code",
   "execution_count": 82,
   "metadata": {
    "scrolled": true
   },
   "outputs": [
    {
     "name": "stderr",
     "output_type": "stream",
     "text": [
      "\r",
      "  0%|                                                     | 0/9 [00:00<?, ?it/s]"
     ]
    },
    {
     "name": "stdout",
     "output_type": "stream",
     "text": [
      "./dataset/cut/2.png\n",
      "(506, 1027, 3)\n"
     ]
    },
    {
     "name": "stderr",
     "output_type": "stream",
     "text": [
      "\r",
      " 11%|█████                                        | 1/9 [00:00<00:02,  3.02it/s]"
     ]
    },
    {
     "name": "stdout",
     "output_type": "stream",
     "text": [
      "./dataset/cut/3.png\n",
      "(508, 837, 3)\n"
     ]
    },
    {
     "name": "stderr",
     "output_type": "stream",
     "text": [
      "\r",
      " 22%|██████████                                   | 2/9 [00:00<00:02,  3.34it/s]"
     ]
    },
    {
     "name": "stdout",
     "output_type": "stream",
     "text": [
      "./dataset/cut/4.png\n",
      "(388, 951, 3)\n"
     ]
    },
    {
     "name": "stderr",
     "output_type": "stream",
     "text": [
      "\r",
      " 33%|███████████████                              | 3/9 [00:00<00:01,  3.67it/s]"
     ]
    },
    {
     "name": "stdout",
     "output_type": "stream",
     "text": [
      "./dataset/cut/2.png\n",
      "(506, 1027, 3)\n"
     ]
    },
    {
     "name": "stderr",
     "output_type": "stream",
     "text": [
      "\r",
      " 44%|████████████████████                         | 4/9 [00:01<00:01,  3.12it/s]"
     ]
    },
    {
     "name": "stdout",
     "output_type": "stream",
     "text": [
      "./dataset/cut/3.png\n",
      "(508, 837, 3)\n"
     ]
    },
    {
     "name": "stderr",
     "output_type": "stream",
     "text": [
      "\r",
      " 56%|█████████████████████████                    | 5/9 [00:01<00:01,  3.05it/s]"
     ]
    },
    {
     "name": "stdout",
     "output_type": "stream",
     "text": [
      "./dataset/cut/2.png\n",
      "(506, 1027, 3)\n"
     ]
    },
    {
     "name": "stderr",
     "output_type": "stream",
     "text": [
      "\r",
      " 67%|██████████████████████████████               | 6/9 [00:01<00:00,  3.10it/s]"
     ]
    },
    {
     "name": "stdout",
     "output_type": "stream",
     "text": [
      "./dataset/cut/6.png\n",
      "(390, 1015, 3)\n"
     ]
    },
    {
     "name": "stderr",
     "output_type": "stream",
     "text": [
      "\r",
      " 78%|███████████████████████████████████          | 7/9 [00:02<00:00,  3.36it/s]"
     ]
    },
    {
     "name": "stdout",
     "output_type": "stream",
     "text": [
      "./dataset/cut/3.png\n",
      "(508, 837, 3)\n"
     ]
    },
    {
     "name": "stderr",
     "output_type": "stream",
     "text": [
      "\r",
      " 89%|████████████████████████████████████████     | 8/9 [00:02<00:00,  3.47it/s]"
     ]
    },
    {
     "name": "stdout",
     "output_type": "stream",
     "text": [
      "./dataset/cut/4.png\n",
      "(388, 951, 3)\n"
     ]
    },
    {
     "name": "stderr",
     "output_type": "stream",
     "text": [
      "100%|█████████████████████████████████████████████| 9/9 [00:02<00:00,  3.34it/s]\n"
     ]
    }
   ],
   "source": [
    "background_list = []\n",
    "cut_list = []\n",
    "bg_name = \"./dataset/bg/\"\n",
    "label_name = \"./dataset/cut/\"\n",
    "for filename in os.listdir(bg_name):\n",
    "    background_list.append(filename)\n",
    "for filename in os.listdir(label_name):\n",
    "    cut_list.append(filename)\n",
    "# print(cut_list)\n",
    "    \n",
    "COM = com(background_list, cut_list,bg_name,label_name)\n",
    "for i in tqdm(range(1,10,1)):#生成幾張\n",
    "    COM.back_init(str(i))\n",
    "    for j in range(1):       #一張圖裡有合成幾個裁切圖\n",
    "        COM.cut_init(j)\n",
    "        COM.combine()\n",
    "    COM.img_write()"
   ]
  },
  {
   "cell_type": "code",
   "execution_count": null,
   "metadata": {},
   "outputs": [],
   "source": []
  },
  {
   "cell_type": "code",
   "execution_count": null,
   "metadata": {},
   "outputs": [],
   "source": []
  },
  {
   "cell_type": "code",
   "execution_count": 4,
   "metadata": {},
   "outputs": [
    {
     "name": "stdout",
     "output_type": "stream",
     "text": [
      "1\n"
     ]
    }
   ],
   "source": [
    "print(5%2)"
   ]
  },
  {
   "cell_type": "code",
   "execution_count": 4,
   "metadata": {},
   "outputs": [
    {
     "name": "stdout",
     "output_type": "stream",
     "text": [
      "-3\n"
     ]
    }
   ],
   "source": [
    "angle = random.randrange(-10,10)\n",
    "print(angle)"
   ]
  },
  {
   "cell_type": "code",
   "execution_count": 17,
   "metadata": {},
   "outputs": [
    {
     "name": "stdout",
     "output_type": "stream",
     "text": [
      "[[ 0.9998477   0.01745241 -9.27808683]\n",
      " [-0.01745241  0.9998477  16.8365548 ]]\n",
      "0.01745240643728351\n"
     ]
    }
   ],
   "source": [
    "\n",
    "image = cv2.imread(\"323.jpg\")\n",
    "(h, w) = image.shape[:2]\n",
    "(cX, cY) = (w // 2, h // 2)\n",
    "M = cv2.getRotationMatrix2D((cX, cY), 1 , 1)\n",
    "print(M)\n",
    "print(M[0,1])\n",
    "cos = np.abs(M[0, 0])\n",
    "sin = np.abs(M[0, 1])\n",
    "\n",
    "# compute the new bounding dimensions of the image\n",
    "nW = int((h * sin) + (w * cos))\n",
    "nH = int((h * cos) + (w * sin))\n",
    "\n",
    "# adjust the rotation matrix to take into account translation\n",
    "M[0, 2] += (nW / 2) - cX\n",
    "M[1, 2] += (nH / 2) - cY\n",
    "\n",
    "img = cv2.warpAffine(image, M, (nW, nH))"
   ]
  },
  {
   "cell_type": "code",
   "execution_count": 69,
   "metadata": {},
   "outputs": [
    {
     "name": "stdout",
     "output_type": "stream",
     "text": [
      "./dataset/bg/目錄已存在\n"
     ]
    }
   ],
   "source": [
    "\n",
    "def m(path):\n",
    "    folder = os.path.exists(path)\n",
    "    if not folder:\n",
    "        os.makedirs(path)\n",
    "        print('-----建立成功-----')\n",
    "    else:\n",
    "        print(path+'目錄已存在')\n",
    "path = \"./dataset/bg/\"\n",
    "m(path)"
   ]
  },
  {
   "cell_type": "code",
   "execution_count": null,
   "metadata": {},
   "outputs": [],
   "source": []
  }
 ],
 "metadata": {
  "kernelspec": {
   "display_name": "ai_model",
   "language": "python",
   "name": "ai_model"
  },
  "language_info": {
   "codemirror_mode": {
    "name": "ipython",
    "version": 3
   },
   "file_extension": ".py",
   "mimetype": "text/x-python",
   "name": "python",
   "nbconvert_exporter": "python",
   "pygments_lexer": "ipython3",
   "version": "3.8.11"
  }
 },
 "nbformat": 4,
 "nbformat_minor": 2
}
